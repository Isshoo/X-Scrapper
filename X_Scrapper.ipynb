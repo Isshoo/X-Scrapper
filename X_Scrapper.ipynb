{
  "nbformat": 4,
  "nbformat_minor": 0,
  "metadata": {
    "colab": {
      "provenance": [],
      "toc_visible": true,
      "authorship_tag": "ABX9TyPd9XhdzyUCHVnKXKUCYjuM",
      "include_colab_link": true
    },
    "kernelspec": {
      "name": "python3",
      "display_name": "Python 3"
    },
    "language_info": {
      "name": "python"
    }
  },
  "cells": [
    {
      "cell_type": "markdown",
      "metadata": {
        "id": "view-in-github",
        "colab_type": "text"
      },
      "source": [
        "<a href=\"https://colab.research.google.com/github/Isshoo/X-Scrapper/blob/main/X_Scrapper.ipynb\" target=\"_parent\"><img src=\"https://colab.research.google.com/assets/colab-badge.svg\" alt=\"Open In Colab\"/></a>"
      ]
    },
    {
      "cell_type": "markdown",
      "source": [
        "\n",
        "---\n",
        "## **TWEET SCRAPPER WITH TWEET-HARVEST**\n",
        "\n",
        "---"
      ],
      "metadata": {
        "id": "tylFczPwvRV1"
      }
    },
    {
      "cell_type": "code",
      "source": [
        "# install node js karena akan menggunakan javascript untuk tweet-harvest\n",
        "\n",
        "!sudo apt-get update\n",
        "!sudo apt-get install -y ca-certificates curl gnupg\n",
        "\n",
        "!sudo mkdir -p /etc/apt/keyrings\n",
        "\n",
        "!curl -fsSL https://deb.nodesource.com/gpgkey/nodesource-repo.gpg.key | sudo gpg --dearmor -o /etc/apt/keyrings/nodesource.gpg\n",
        "\n",
        "!NODE_MAJOR=20 && echo \"deb [signed-by=/etc/apt/keyrings/nodesource.gpg] https://deb.nodesource.com/node_$NODE_MAJOR.x nodistro main\" | sudo tee /etc/apt/sources.list.d/nodesource.list\n",
        "\n",
        "!sudo apt-get update\n",
        "\n",
        "!sudo apt-get install nodejs -y\n",
        "\n",
        "!node -v"
      ],
      "metadata": {
        "id": "vdgtc4x3emqr"
      },
      "execution_count": null,
      "outputs": []
    },
    {
      "cell_type": "code",
      "source": [
        "# install library python yang diperlukan\n",
        "\n",
        "!pip install pandas"
      ],
      "metadata": {
        "id": "zIvgLbnFel-a"
      },
      "execution_count": null,
      "outputs": []
    },
    {
      "cell_type": "code",
      "source": [
        "# Masuk Dulu ke Twitter atau X di web kemudian ambil auth_tokennya dari Cookies\n",
        "\n",
        "twitter_auth_token = '52d25376f94ac4622a6378448467d21e18133ac2' # auth token"
      ],
      "metadata": {
        "id": "j26tC8fKeZ5D"
      },
      "execution_count": null,
      "outputs": []
    },
    {
      "cell_type": "code",
      "execution_count": null,
      "metadata": {
        "id": "AfcimON4JrpW"
      },
      "outputs": [],
      "source": [
        "# Crawl Data\n",
        "\n",
        "filename = \"TIFF.csv\"\n",
        "search_keyword = \"Tomohon International Flower Festival since:2022-01-01 until:2025-09-22 lang:id\"\n",
        "limit = 500\n",
        "\n",
        "!npx -y tweet-harvest@2.6.1 -o \"{filename}\" -s \"{search_keyword}\" --tab \"LATEST\" -l {limit} --token {twitter_auth_token}"
      ]
    },
    {
      "cell_type": "code",
      "source": [
        "import pandas as pd\n",
        "\n",
        "# jelaskan lokasi file ke CSV file\n",
        "file_path = f\"tweets-data/{filename}\"\n",
        "\n",
        "# mambaca CSV file ke pandas DataFrame\n",
        "df = pd.read_csv(file_path, delimiter=\",\")\n",
        "\n",
        "# menampilkan DataFrame\n",
        "display(df)"
      ],
      "metadata": {
        "id": "NrG_wkLQfW6L"
      },
      "execution_count": null,
      "outputs": []
    },
    {
      "cell_type": "code",
      "source": [
        "import numpy as np\n",
        "\n",
        "# Membaca file CSV\n",
        "df = pd.read_csv(file_path, delimiter=\",\")\n",
        "\n",
        "# Memperbaiki URL yang mengandung 'undefined'\n",
        "df['tweet_url'] = np.where(\n",
        "    df['tweet_url'].str.contains('undefined', na=False),\n",
        "    'https://x.com/anyuser/status/' + df['id_str'].astype(str),\n",
        "    df['tweet_url']\n",
        ")\n",
        "\n",
        "# Menghapus kolom username dan location\n",
        "df = df.drop(columns=['location', 'username']) # Hapus kolom yang tidak diperlukan\n",
        "\n",
        "# Menyimpan hasil ke file CSV baru\n",
        "df.to_csv('tweets-data/TIFF_Twitter_fix.csv', index=False)\n",
        "display(df)"
      ],
      "metadata": {
        "id": "cTPlaTwNfbWW"
      },
      "execution_count": null,
      "outputs": []
    },
    {
      "cell_type": "code",
      "source": [
        "# Cek jumlah data yang didapatkan\n",
        "\n",
        "num_tweets = len(df)\n",
        "print(f\"Jumlah tweet dalam dataframe adalah {num_tweets}.\")"
      ],
      "metadata": {
        "id": "Q18vACFZfcYq"
      },
      "execution_count": null,
      "outputs": []
    }
  ]
}